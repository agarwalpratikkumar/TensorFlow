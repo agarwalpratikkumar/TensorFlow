{
 "cells": [
  {
   "cell_type": "code",
   "execution_count": 26,
   "metadata": {},
   "outputs": [],
   "source": [
    "import tensorflow as tf\n",
    "import numpy as np\n",
    "import matplotlib.pyplot as plt"
   ]
  },
  {
   "cell_type": "markdown",
   "metadata": {},
   "source": [
    "Generate numbers between -1 and 1"
   ]
  },
  {
   "cell_type": "code",
   "execution_count": 27,
   "metadata": {},
   "outputs": [
    {
     "name": "stdout",
     "output_type": "stream",
     "text": [
      "[-1.   -0.98 -0.96 -0.94 -0.92 -0.9  -0.88 -0.86 -0.84 -0.82 -0.8  -0.78\n",
      " -0.76 -0.74 -0.72 -0.7  -0.68 -0.66 -0.64 -0.62 -0.6  -0.58 -0.56 -0.54\n",
      " -0.52 -0.5  -0.48 -0.46 -0.44 -0.42 -0.4  -0.38 -0.36 -0.34 -0.32 -0.3\n",
      " -0.28 -0.26 -0.24 -0.22 -0.2  -0.18 -0.16 -0.14 -0.12 -0.1  -0.08 -0.06\n",
      " -0.04 -0.02  0.    0.02  0.04  0.06  0.08  0.1   0.12  0.14  0.16  0.18\n",
      "  0.2   0.22  0.24  0.26  0.28  0.3   0.32  0.34  0.36  0.38  0.4   0.42\n",
      "  0.44  0.46  0.48  0.5   0.52  0.54  0.56  0.58  0.6   0.62  0.64  0.66\n",
      "  0.68  0.7   0.72  0.74  0.76  0.78  0.8   0.82  0.84  0.86  0.88  0.9\n",
      "  0.92  0.94  0.96  0.98  1.  ]\n"
     ]
    }
   ],
   "source": [
    "X_values = np.linspace(-1, 1, 101)\n",
    "print(X_values)"
   ]
  },
  {
   "cell_type": "code",
   "execution_count": 28,
   "metadata": {},
   "outputs": [
    {
     "data": {
      "text/plain": [
       "(101,)"
      ]
     },
     "execution_count": 28,
     "metadata": {},
     "output_type": "execute_result"
    }
   ],
   "source": [
    "X_values.shape"
   ]
  },
  {
   "cell_type": "markdown",
   "metadata": {},
   "source": [
    "Take Y values approximately linear with X "
   ]
  },
  {
   "cell_type": "code",
   "execution_count": 29,
   "metadata": {},
   "outputs": [],
   "source": [
    "Y_values = 2 * X_values + np.random.randn(*X_values.shape) * 0.20"
   ]
  },
  {
   "cell_type": "code",
   "execution_count": 30,
   "metadata": {},
   "outputs": [
    {
     "data": {
      "text/plain": [
       "(101,)"
      ]
     },
     "execution_count": 30,
     "metadata": {},
     "output_type": "execute_result"
    }
   ],
   "source": [
    "Y_values.shape"
   ]
  },
  {
   "cell_type": "markdown",
   "metadata": {},
   "source": [
    "Plot X and Y"
   ]
  },
  {
   "cell_type": "code",
   "execution_count": 31,
   "metadata": {
    "scrolled": true
   },
   "outputs": [
    {
     "data": {
      "image/png": "[encoded data removed]",
      "text/plain": [
       "<Figure size 432x288 with 1 Axes>"
      ]
     },
     "metadata": {
      "needs_background": "light"
     },
     "output_type": "display_data"
    }
   ],
   "source": [
    "plt.scatter(X_values, Y_values)\n",
    "plt.show()"
   ]
  },
  {
   "cell_type": "markdown",
   "metadata": {},
   "source": [
    "Now we are creating the variables(X, Y) to hold the values in x and y axes.<br>\n",
    "Or we can say we are inserting a placeholder for a tensor that is always fed. To fed or to assign values we have to use\n",
    " \"feed_dict\" from Session.run() <br>\n",
    "__Our Linear Regression Model is y = W*x__ (Think of this as y = mx + c where c = 0)<br>\n",
    "        * W is the weight value which we have to find by our model (by training it) so that we can get a linear line."
   ]
  },
  {
   "cell_type": "markdown",
   "metadata": {},
   "source": [
    "* Our main focus is to find a hypothesis which has the minimum cost (that means our predicted value should not deviate much from the actual value).<br>\n",
    "Gradient Descent is used to find such hypothesis (automatically) which has the minimum cost. We are passing the \"learning rate\" (in this case 0.01) to GradientDescentOptimizer for the steps it should take to reach global/local minima.\n"
   ]
  },
  {
   "cell_type": "code",
   "execution_count": 32,
   "metadata": {},
   "outputs": [],
   "source": [
    "X = tf.placeholder(\"float\")  #float is the type of elements in the tensor to be fed.\n",
    "Y = tf.placeholder(\"float\")\n",
    "\n",
    "def model(X, w):\n",
    "    return tf.multiply(X, w)   #our LR model w*x\n",
    "\n",
    "w = tf.Variable(0.0, name = \"weights\")\n",
    "y_model = model(X, w)\n",
    "\n",
    "cost = tf.square(Y - y_model)\n",
    "\n",
    "train_op = tf.train.GradientDescentOptimizer(0.01).minimize(cost)\n",
    "                "
   ]
  },
  {
   "cell_type": "markdown",
   "metadata": {},
   "source": [
    "Here we are using one example at a time to update our weight parameter. This is called Stochastic Gradient Descent.<br>\n",
    "__Stochastic Gradient Descent :__ Use one example in each iteration.<br>\n",
    "__Batch Gradient Descent :__ Use all the eamples in each iteration.<br>\n",
    "__Mini-Batch Gradient Descent :__ Use b examples in each iteration. (\"b\" is the mini-batch size) For eg: if total number of training examples are 100 and if we assign b = 20. Then for each set of 20 examples there will be one update of the parameter.<br>"
   ]
  },
  {
   "cell_type": "code",
   "execution_count": 33,
   "metadata": {},
   "outputs": [
    {
     "name": "stdout",
     "output_type": "stream",
     "text": [
      "1.9522771\n"
     ]
    },
    {
     "data": {
      "image/png": "[encoded data removed]",
      "text/plain": [
       "<Figure size 432x288 with 1 Axes>"
      ]
     },
     "metadata": {
      "needs_background": "light"
     },
     "output_type": "display_data"
    }
   ],
   "source": [
    "with tf.Session() as sess:\n",
    "    tf.global_variables_initializer().run()  # Here we are initializing the \"variables\" before using them. In this case \"w\"\n",
    "    \n",
    "    for i in range (100):  # Run 100 epochs\n",
    "        for (x,y) in zip(X_values, Y_values):   # Taking each points one-by-one and run gradient descent and update the parameter i.e \"w\"\n",
    "            sess.run(train_op, feed_dict={X:x, Y:y})\n",
    "            \n",
    "    print(sess.run(w))\n",
    "    plt.scatter(X_values,Y_values)\n",
    "    plt.plot(X_values, X_values*sess.run(w), color=\"red\")\n",
    "    \n"
   ]
  },
  {
   "cell_type": "markdown",
   "metadata": {},
   "source": [
    "The weight value (w) we obtained is 1.9196501.<br>\n",
    "And the red line is the linear line we got by training our model.<br>\n",
    "We can verify this by doing on paper. Our equation was y = mx + c. (Here m = w, c = 0, x = X_values)"
   ]
  }
 ],
 "metadata": {
  "kernelspec": {
   "display_name": "Python 3",
   "language": "python",
   "name": "python3"
  },
  "language_info": {
   "codemirror_mode": {
    "name": "ipython",
    "version": 3
   },
   "file_extension": ".py",
   "mimetype": "text/x-python",
   "name": "python",
   "nbconvert_exporter": "python",
   "pygments_lexer": "ipython3",
   "version": "3.6.5rc1"
  }
 },
 "nbformat": 4,
 "nbformat_minor": 2
}
